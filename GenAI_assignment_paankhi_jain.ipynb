{
  "nbformat": 4,
  "nbformat_minor": 0,
  "metadata": {
    "colab": {
      "provenance": []
    },
    "kernelspec": {
      "name": "python3",
      "display_name": "Python 3"
    },
    "language_info": {
      "name": "python"
    }
  },
  "cells": [
    {
      "cell_type": "code",
      "execution_count": 2,
      "metadata": {
        "colab": {
          "base_uri": "https://localhost:8080/"
        },
        "id": "0_1njyh1-xsk",
        "outputId": "8f758189-294a-4c8d-a39b-ae5d60a2e6b3"
      },
      "outputs": [
        {
          "output_type": "stream",
          "name": "stdout",
          "text": [
            "Symptom Dictionary:\n",
            "{'Symptom 1': ['Fever: Mild, Low, High'], 'Symptom 2': ['Cough: Mild, Low'], 'Symptom 3': ['Cold: Mild, Low, High'], 'Other Symptoms': ['Body Ache', 'Shivering', 'Head Ache', 'Nausia', 'Sickness', 'Vertigo', 'Head Ache', 'Nausia', 'Sickness', 'Vertigo, Nausia']}\n"
          ]
        }
      ],
      "source": [
        "import pandas as pd\n",
        "\n",
        "# Load the Excel file\n",
        "file_path = '/content/Auto_Regressive_Model_Diffusion_Model_V_1.0.xlsx'\n",
        "xls = pd.ExcelFile(file_path)\n",
        "\n",
        "# Load the 'Base_Data_Set' sheet\n",
        "base_data_set_full = pd.read_excel(xls, sheet_name='Base_Data_Set')\n",
        "\n",
        "# Function to extract severity levels from the corresponding columns\n",
        "def extract_symptoms_and_severity(symptom_column, severity_columns):\n",
        "    # Get the symptom name (first row in the symptom column)\n",
        "    symptom_name = base_data_set_full.iloc[0, symptom_column]\n",
        "\n",
        "    # Get the severity levels (second row in the severity columns)\n",
        "    severity_levels = base_data_set_full.iloc[1, severity_columns].dropna().tolist()\n",
        "\n",
        "    # Format as \"Symptom: severity1, severity2, ...\"\n",
        "    return f\"{symptom_name}: {', '.join(severity_levels)}\"\n",
        "\n",
        "# Create a dictionary of symptoms and their severity levels\n",
        "symptom_dict = {\n",
        "    'Symptom 1': [extract_symptoms_and_severity(2, slice(2, 5))],\n",
        "    'Symptom 2': [extract_symptoms_and_severity(6, slice(6, 8))],\n",
        "    'Symptom 3': [extract_symptoms_and_severity(9, slice(9, 12))],\n",
        "    'Other Symptoms': base_data_set_full.iloc[2:, 12].dropna().tolist()\n",
        "}\n",
        "\n",
        "# Display the symptom dictionary\n",
        "print(\"Symptom Dictionary:\")\n",
        "print(symptom_dict)"
      ]
    }
  ]
}